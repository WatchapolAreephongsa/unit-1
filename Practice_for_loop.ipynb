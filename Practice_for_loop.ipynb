{
  "nbformat": 4,
  "nbformat_minor": 0,
  "metadata": {
    "colab": {
      "name": "Practice for loop",
      "provenance": [],
      "authorship_tag": "ABX9TyMN1yO8KHjxP4gZYRPDX6Bt",
      "include_colab_link": true
    },
    "kernelspec": {
      "name": "python3",
      "display_name": "Python 3"
    },
    "language_info": {
      "name": "python"
    }
  },
  "cells": [
    {
      "cell_type": "markdown",
      "metadata": {
        "id": "view-in-github",
        "colab_type": "text"
      },
      "source": [
        "<a href=\"https://colab.research.google.com/github/WatchapolAreephongsa/unit-1/blob/main/Practice_for_loop.ipynb\" target=\"_parent\"><img src=\"https://colab.research.google.com/assets/colab-badge.svg\" alt=\"Open In Colab\"/></a>"
      ]
    },
    {
      "cell_type": "code",
      "metadata": {
        "colab": {
          "base_uri": "https://localhost:8080/"
        },
        "id": "A0wL2Qw3FW8G",
        "outputId": "0b778838-d4d4-4dd8-b797-9d10b94cc2f4"
      },
      "source": [
        "for i in range (2):\n",
        "  X = ['A','B']\n",
        "\n",
        "  for j in range (3):\n",
        "    print(X[i], end ='')\n",
        "    print(j+1)\n",
        "print('')\n",
        "\n",
        "for L in [\"A\", \"B\"]:\n",
        "  for k in range (1,4):\n",
        "    print(L, end='')\n",
        "    for seq in range (1, k+1):\n",
        "      \n",
        "      print(seq, end='')\n",
        "    print('')\n",
        "\n"
      ],
      "execution_count": 3,
      "outputs": [
        {
          "output_type": "stream",
          "name": "stdout",
          "text": [
            "A1\n",
            "A2\n",
            "A3\n",
            "B1\n",
            "B2\n",
            "B3\n",
            "\n",
            "A1\n",
            "A12\n",
            "A123\n",
            "B1\n",
            "B12\n",
            "B123\n"
          ]
        }
      ]
    }
  ]
}