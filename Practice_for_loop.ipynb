{
  "nbformat": 4,
  "nbformat_minor": 0,
  "metadata": {
    "colab": {
      "name": "Practice for loop",
      "provenance": [],
      "collapsed_sections": [],
      "authorship_tag": "ABX9TyM10R5Mh8TawcttseT4fe8F",
      "include_colab_link": true
    },
    "kernelspec": {
      "name": "python3",
      "display_name": "Python 3"
    },
    "language_info": {
      "name": "python"
    }
  },
  "cells": [
    {
      "cell_type": "markdown",
      "metadata": {
        "id": "view-in-github",
        "colab_type": "text"
      },
      "source": [
        "<a href=\"https://colab.research.google.com/github/WatchapolAreephongsa/unit-1/blob/main/Practice_for_loop.ipynb\" target=\"_parent\"><img src=\"https://colab.research.google.com/assets/colab-badge.svg\" alt=\"Open In Colab\"/></a>"
      ]
    },
    {
      "cell_type": "code",
      "metadata": {
        "colab": {
          "base_uri": "https://localhost:8080/"
        },
        "id": "A0wL2Qw3FW8G",
        "outputId": "0b778838-d4d4-4dd8-b797-9d10b94cc2f4"
      },
      "source": [
        "for i in range (2):\n",
        "  X = ['A','B']\n",
        "\n",
        "  for j in range (3):\n",
        "    print(X[i], end ='')\n",
        "    print(j+1)\n",
        "print('')\n",
        "\n",
        "for L in [\"A\", \"B\"]:\n",
        "  for k in range (1,4):\n",
        "    print(L, end='')\n",
        "    for seq in range (1, k+1):\n",
        "      \n",
        "      print(seq, end='')\n",
        "    print('')\n",
        "\n"
      ],
      "execution_count": 3,
      "outputs": [
        {
          "output_type": "stream",
          "name": "stdout",
          "text": [
            "A1\n",
            "A2\n",
            "A3\n",
            "B1\n",
            "B2\n",
            "B3\n",
            "\n",
            "A1\n",
            "A12\n",
            "A123\n",
            "B1\n",
            "B12\n",
            "B123\n"
          ]
        }
      ]
    },
    {
      "cell_type": "code",
      "metadata": {
        "colab": {
          "base_uri": "https://localhost:8080/"
        },
        "id": "NK45oBlULLHf",
        "outputId": "58ea164d-438f-4c4b-c943-47c5cc29bcd7"
      },
      "source": [
        "n = int(input())\n",
        "for i in range (1,n+1):\n",
        "  for j in range(10):\n",
        "    print(f\"{i}*{j+1}={i*(j+1)}\")"
      ],
      "execution_count": 1,
      "outputs": [
        {
          "output_type": "stream",
          "name": "stdout",
          "text": [
            "3\n",
            "1*1=1\n",
            "1*2=2\n",
            "1*3=3\n",
            "1*4=4\n",
            "1*5=5\n",
            "1*6=6\n",
            "1*7=7\n",
            "1*8=8\n",
            "1*9=9\n",
            "1*10=10\n",
            "2*1=2\n",
            "2*2=4\n",
            "2*3=6\n",
            "2*4=8\n",
            "2*5=10\n",
            "2*6=12\n",
            "2*7=14\n",
            "2*8=16\n",
            "2*9=18\n",
            "2*10=20\n",
            "3*1=3\n",
            "3*2=6\n",
            "3*3=9\n",
            "3*4=12\n",
            "3*5=15\n",
            "3*6=18\n",
            "3*7=21\n",
            "3*8=24\n",
            "3*9=27\n",
            "3*10=30\n"
          ]
        }
      ]
    }
  ]
}