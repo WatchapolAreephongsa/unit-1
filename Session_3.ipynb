{
  "nbformat": 4,
  "nbformat_minor": 0,
  "metadata": {
    "colab": {
      "name": "Session#3",
      "provenance": [],
      "authorship_tag": "ABX9TyPQ/kJLhuAUb2Siz0bhG6Dl",
      "include_colab_link": true
    },
    "kernelspec": {
      "name": "python3",
      "display_name": "Python 3"
    },
    "language_info": {
      "name": "python"
    }
  },
  "cells": [
    {
      "cell_type": "markdown",
      "metadata": {
        "id": "view-in-github",
        "colab_type": "text"
      },
      "source": [
        "<a href=\"https://colab.research.google.com/github/WatchapolAreephongsa/unit-1/blob/main/Session_3.ipynb\" target=\"_parent\"><img src=\"https://colab.research.google.com/assets/colab-badge.svg\" alt=\"Open In Colab\"/></a>"
      ]
    },
    {
      "cell_type": "markdown",
      "metadata": {
        "id": "7QrewRI1iiA-"
      },
      "source": [
        "##Working with If-statements"
      ]
    },
    {
      "cell_type": "markdown",
      "metadata": {
        "id": "Bq0Dnm-dgJb5"
      },
      "source": [
        "① Create a program that organizes from largest to smallest three heights in cms entered by the user.\n"
      ]
    },
    {
      "cell_type": "code",
      "metadata": {
        "colab": {
          "base_uri": "https://localhost:8080/"
        },
        "id": "DcO1OO6ugM0D",
        "outputId": "4d3fb557-cade-42bd-9b6d-60f0c9fc84b0"
      },
      "source": [
        "height1 = int(input('Put your height here in cm: '))\n",
        "height2 = int(input('Put your height here in cm: '))\n",
        "height3 =int(input('Put your height here in cm: '))\n",
        "if height1<=height2:\n",
        "  a= height2\n",
        "  height1, height2 = height2, height1\n",
        "\n",
        "if height1<=height3:\n",
        "  height1, height3 =height3,height1\n",
        "if height2<=height3:\n",
        "  height2, height3 = height3, height2\n",
        "print(f\" The tallest one is {height1} cm\")\n",
        "print(f\"The second tallest one is {height2} cm\")\n",
        "print(f\"The shortest one is {height3} cm\")\n"
      ],
      "execution_count": 8,
      "outputs": [
        {
          "output_type": "stream",
          "text": [
            "Put your height here1\n",
            "Put your height here2\n",
            "Put your height here3\n",
            "3\n",
            "2\n",
            "1\n"
          ],
          "name": "stdout"
        }
      ]
    },
    {
      "cell_type": "markdown",
      "metadata": {
        "id": "qUGc3Bj9lLKD"
      },
      "source": [
        "② Create a program that calculates the tax for a salary entered by the user following the table below\n",
        "\n",
        "\n",
        "```\n",
        "\n",
        "Tax Rate            Salary Range(USD)\n",
        "5%                  0-10.000\n",
        "10%                 10.001-50.000\n",
        "15%                 50.001-100.000\n",
        "25%                 100.001-\n",
        "```\n",
        "\n"
      ]
    },
    {
      "cell_type": "code",
      "metadata": {
        "colab": {
          "base_uri": "https://localhost:8080/"
        },
        "id": "RCIxnNM9mT4j",
        "outputId": "dc4129b4-8e79-4a57-a560-bd9a3a379256"
      },
      "source": [
        "income= int(input(\"Your income is(USD):\"))\n",
        "\n",
        "if income <10000:\n",
        "  tax = income*0.05\n",
        "if income>=10001 and income<=50000:\n",
        "  tax = income*0.1\n",
        "if income>=50001 and income<=100000:\n",
        "  tax = income*0.15\n",
        "elif income>=100001:\n",
        "  tax= income*0.25\n",
        "\n",
        "print( print(f\"You need to pay ${tax} for your tax\"))"
      ],
      "execution_count": 15,
      "outputs": [
        {
          "output_type": "stream",
          "text": [
            "Your income is(USD):1000000\n",
            "You need to pay $250000.0 for your tax\n",
            "None\n"
          ],
          "name": "stdout"
        }
      ]
    }
  ]
}