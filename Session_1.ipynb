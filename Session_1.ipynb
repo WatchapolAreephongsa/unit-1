{
  "nbformat": 4,
  "nbformat_minor": 0,
  "metadata": {
    "colab": {
      "name": " Session#1",
      "provenance": [],
      "authorship_tag": "ABX9TyMBHGnLwBdiJGPMyYSN4wFQ",
      "include_colab_link": true
    },
    "kernelspec": {
      "name": "python3",
      "display_name": "Python 3"
    },
    "language_info": {
      "name": "python"
    }
  },
  "cells": [
    {
      "cell_type": "markdown",
      "metadata": {
        "id": "view-in-github",
        "colab_type": "text"
      },
      "source": [
        "<a href=\"https://colab.research.google.com/github/WatchapolAreephongsa/unit-1/blob/main/Session_1.ipynb\" target=\"_parent\"><img src=\"https://colab.research.google.com/assets/colab-badge.svg\" alt=\"Open In Colab\"/></a>"
      ]
    },
    {
      "cell_type": "markdown",
      "metadata": {
        "id": "kh1n_yg_sePS"
      },
      "source": [
        "#Programming exercises"
      ]
    },
    {
      "cell_type": "markdown",
      "metadata": {
        "id": "hy9b8K6xvQ2R"
      },
      "source": [
        "a. write a program that calculates the addition of all integer numbers from 0 to 2021.\n",
        "\n",
        "We will use the arithmethic sequence\n",
        "$$sum=1/2*n(1+n)$$\n"
      ]
    },
    {
      "cell_type": "code",
      "metadata": {
        "id": "fwubM9_JsQvq"
      },
      "source": [
        "start_num = 0\n",
        "end_num = 2021\n",
        "\n",
        "n=end_num -  start_num\n",
        "\n",
        "#calculate the addition\n",
        "result = n*(n+1)/2\n",
        "#show the result\n",
        "print(\"The addition of integers from\",start_num,\"to\",end_num, \"is\",result)"
      ],
      "execution_count": null,
      "outputs": []
    },
    {
      "cell_type": "code",
      "metadata": {
        "id": "0I1Igz6KxlAP"
      },
      "source": [
        "#printing using f-strings\n",
        "print(f\"The addition of integers from {start_num} to {end_num} is {result}\")"
      ],
      "execution_count": null,
      "outputs": []
    },
    {
      "cell_type": "markdown",
      "metadata": {
        "id": "GEqHK3XPyRCN"
      },
      "source": [
        "b. write a program that calculates the value of y when the user enters a integer x"
      ]
    },
    {
      "cell_type": "code",
      "metadata": {
        "id": "QJRlpI65yZQ_"
      },
      "source": [
        "x = int(input(\"enter the value of x here \"))\n",
        "\n",
        "#This program will calculate y=2(x+3)-3 when the user inputs the value of x\n",
        "\n",
        "print(f\"The value of y when x = {x} is\" , 2*(x+3)-3)"
      ],
      "execution_count": null,
      "outputs": []
    },
    {
      "cell_type": "markdown",
      "metadata": {
        "id": "jpXyri0v0YLM"
      },
      "source": [
        "c.Write a program that asks the user for this name and grade and outputs the user's email address at UWC Isak:\n",
        "\n",
        "Ex.\n",
        "name = John doe\n",
        "grade = 10\n",
        "\n",
        "E-mail = 2024.john.doe@uwcisak.jp"
      ]
    },
    {
      "cell_type": "code",
      "metadata": {
        "id": "IKC2Uspn0r4X",
        "colab": {
          "base_uri": "https://localhost:8080/"
        },
        "outputId": "b3e32798-482a-4607-80fa-8ef8bf854a39"
      },
      "source": [
        "first_name =  input(\"Write your first name here(do not capitalize): \")\n",
        "last_name = input(\"Write your last name here(do not capitalize): \")\n",
        "#the program will show the user's UWC ISAK's email when they input their grade, first name and last name\n",
        "grade = int(input(\" Enter your grade: \"))\n",
        "\n",
        "print(f\"your ISAK e-mail is: {grade+2012}.{first_name}.{last_name}@uwcisak.jp\")"
      ],
      "execution_count": null,
      "outputs": [
        {
          "output_type": "stream",
          "text": [
            "Write your first name here(do not capitalize): watchapol\n",
            "Write your last name here(do not capitalize): areephongsa\n",
            " Enter your grade: 11\n",
            "your ISAK e-mail is:2023.watchapol.areephongsa@uwcisak.jp\n"
          ],
          "name": "stdout"
        }
      ]
    },
    {
      "cell_type": "markdown",
      "metadata": {
        "id": "g58CLVM_2xj_"
      },
      "source": [
        "d.Write a program that converts a temperature from Farenheit to Celsius"
      ]
    },
    {
      "cell_type": "code",
      "metadata": {
        "id": "Caqlqraq2zin",
        "colab": {
          "base_uri": "https://localhost:8080/"
        },
        "outputId": "cac6980c-3ba1-49a9-8422-669a0509bd51"
      },
      "source": [
        "Farenheit = int(input(\"Enter temperature in Farenheit here\"))\n",
        "#equation: (°F − 32) × 5/9 = °C\n",
        "Celsius = ( Farenheit -32)*5/9 \n",
        "\n",
        "print(f\"The temperature in Celsius is {Celsius}°C\")"
      ],
      "execution_count": null,
      "outputs": [
        {
          "output_type": "stream",
          "text": [
            "Enter temperature in Farenheit here90\n",
            "The temperature in Celsius is 32.22222222222222°C\n"
          ],
          "name": "stdout"
        }
      ]
    },
    {
      "cell_type": "markdown",
      "metadata": {
        "id": "6qoWm81J9IlP"
      },
      "source": [
        " e.Write a program to convert from miles to kilometers。\n",
        "\n",
        " \n",
        " $$miles = 1.609 * km$$\n",
        "  \n",
        "\n"
      ]
    },
    {
      "cell_type": "code",
      "metadata": {
        "colab": {
          "base_uri": "https://localhost:8080/"
        },
        "id": "qrSeqMhN9Xdh",
        "outputId": "a411f04d-0ff1-42a9-e660-b356cdb48aee"
      },
      "source": [
        "#Step 1: ask the user for the miles\n",
        "#Step 2: store the value entered by the user in a variable\n",
        "#Step 3: calculate kilometers as miles * (1/1.609)\n",
        "#Step 4: print out the result to the user. Nicely written\n",
        "\n",
        "miles = int(input(\"Please enter the miles(integer only): \"))\n",
        "kilometers = miles*(1.609)\n",
        "\n",
        "print(f\"{miles} miles is equal to {kilometers} km\")"
      ],
      "execution_count": 2,
      "outputs": [
        {
          "output_type": "stream",
          "text": [
            "Please enter the miles(integer only): 100\n",
            "100 miles is equal to 160.9 lm\n"
          ],
          "name": "stdout"
        }
      ]
    },
    {
      "cell_type": "markdown",
      "metadata": {
        "id": "hTdm4CLwDNd7"
      },
      "source": [
        "f.Write a program that solves the Quadratic Equation for valid inputs a, b, c。\n",
        "\n",
        "$$ax**2+bx+c$$"
      ]
    },
    {
      "cell_type": "code",
      "metadata": {
        "colab": {
          "base_uri": "https://localhost:8080/",
          "height": 240
        },
        "id": "svwgPRUMDxy2",
        "outputId": "3b8794ef-7179-4e6b-8421-d34934cf187f"
      },
      "source": [
        "#get the input for a,b and c and solve for x by using quadratic equation\n",
        "a = int(input(\"value of a: \"))\n",
        "b = int(input(\"value of b: \"))\n",
        "c = int(input(\"value of c: \"))\n",
        "\n",
        "\n",
        "x = (-b+(b**2-4*a*c)**1/2)/ 2*a\n",
        "\n",
        "print(f\"the answer of this equation is {x}\")\n",
        "\n"
      ],
      "execution_count": 1,
      "outputs": [
        {
          "output_type": "stream",
          "text": [
            "value of a: \n"
          ],
          "name": "stdout"
        },
        {
          "output_type": "error",
          "ename": "ValueError",
          "evalue": "ignored",
          "traceback": [
            "\u001b[0;31m---------------------------------------------------------------------------\u001b[0m",
            "\u001b[0;31mValueError\u001b[0m                                Traceback (most recent call last)",
            "\u001b[0;32m<ipython-input-1-3a478ff3ba7a>\u001b[0m in \u001b[0;36m<module>\u001b[0;34m()\u001b[0m\n\u001b[0;32m----> 1\u001b[0;31m \u001b[0ma\u001b[0m \u001b[0;34m=\u001b[0m \u001b[0mint\u001b[0m\u001b[0;34m(\u001b[0m\u001b[0minput\u001b[0m\u001b[0;34m(\u001b[0m\u001b[0;34m\"value of a: \"\u001b[0m\u001b[0;34m)\u001b[0m\u001b[0;34m)\u001b[0m\u001b[0;34m\u001b[0m\u001b[0;34m\u001b[0m\u001b[0m\n\u001b[0m\u001b[1;32m      2\u001b[0m \u001b[0mb\u001b[0m \u001b[0;34m=\u001b[0m \u001b[0mint\u001b[0m\u001b[0;34m(\u001b[0m\u001b[0minput\u001b[0m\u001b[0;34m(\u001b[0m\u001b[0;34m\"value of b: \"\u001b[0m\u001b[0;34m)\u001b[0m\u001b[0;34m)\u001b[0m\u001b[0;34m\u001b[0m\u001b[0;34m\u001b[0m\u001b[0m\n\u001b[1;32m      3\u001b[0m \u001b[0mc\u001b[0m \u001b[0;34m=\u001b[0m \u001b[0mint\u001b[0m\u001b[0;34m(\u001b[0m\u001b[0minput\u001b[0m\u001b[0;34m(\u001b[0m\u001b[0;34m\"value of c: \"\u001b[0m\u001b[0;34m)\u001b[0m\u001b[0;34m)\u001b[0m\u001b[0;34m\u001b[0m\u001b[0;34m\u001b[0m\u001b[0m\n\u001b[1;32m      4\u001b[0m \u001b[0;34m\u001b[0m\u001b[0m\n\u001b[1;32m      5\u001b[0m \u001b[0;34m\u001b[0m\u001b[0m\n",
            "\u001b[0;31mValueError\u001b[0m: invalid literal for int() with base 10: ''"
          ]
        }
      ]
    },
    {
      "cell_type": "markdown",
      "metadata": {
        "id": "9OWWU7HQ_BLo"
      },
      "source": [
        "g.Write a program to reverse a number entered by the user。\n",
        "\n",
        "Ex. input 123. output 321"
      ]
    },
    {
      "cell_type": "code",
      "metadata": {
        "colab": {
          "base_uri": "https://localhost:8080/"
        },
        "id": "LJEA_5HD_EzV",
        "outputId": "2aaeac77-60ac-4fc9-de60-14dd11f500d1"
      },
      "source": [
        "#example\n",
        "noun = \"animal\"\n",
        "#Indexing to get the first letter. remember we start counting at 0\n",
        "print(noun[0])\n",
        "\n",
        "#Print the last letter in the string\n",
        "#-1 is the last letter\n",
        "print(noun[-1])\n",
        "print(noun[5])\n",
        "\n",
        "# get a part or substring [start:end:step], end is not included\n",
        "print(noun[0:-1:2])\n",
        "\n",
        "#reverse the word using indexing\n",
        "print(\"reversing\", noun[-1:0:-1])\n"
      ],
      "execution_count": 3,
      "outputs": [
        {
          "output_type": "stream",
          "text": [
            "a\n",
            "l\n",
            "l\n",
            "aia\n",
            "reversing lamin\n"
          ],
          "name": "stdout"
        }
      ]
    },
    {
      "cell_type": "code",
      "metadata": {
        "colab": {
          "base_uri": "https://localhost:8080/"
        },
        "id": "79fMbPp2GVgF",
        "outputId": "ca44be63-969e-4944-c5c5-6d99c2421c85"
      },
      "source": [
        "num = int(input(\"enter the number here: \"))\n",
        "#change int to str\n",
        "str_num = \"1\"+str(num) #put 1 in front because the first letter won't be included in the program\n",
        "print(str_num[-1:0:-1])\n"
      ],
      "execution_count": 3,
      "outputs": [
        {
          "output_type": "stream",
          "text": [
            "enter the number here: 34455656\n",
            "65655443\n"
          ],
          "name": "stdout"
        }
      ]
    },
    {
      "cell_type": "markdown",
      "metadata": {
        "id": "kQQKctFqHS9l"
      },
      "source": [
        "h.Write a program that asks the user for their name, age, nationality and produces a greeting message such as “Welcome John Doe you are 30 years old and a national of Colombia”\n"
      ]
    },
    {
      "cell_type": "code",
      "metadata": {
        "colab": {
          "base_uri": "https://localhost:8080/"
        },
        "id": "VQfhu7CbHY9L",
        "outputId": "92a4003a-5042-426c-ac11-7ce62d89ec94"
      },
      "source": [
        "first_name = input(\"Your first name: \")\n",
        "last_name = input(\"Your last name: \")\n",
        "age = int(input(\"Your age: \"))\n",
        "nationality= input(\"Your nationality: \")\n",
        "\n",
        "print(f\"Welcome {first_name} {last_name} you are {age} years old and a national of {nationality}.\")"
      ],
      "execution_count": 1,
      "outputs": [
        {
          "output_type": "stream",
          "text": [
            "Your first name: Aup\n",
            "Your last name: PII\n",
            "Your age: 16\n",
            "Your nationality: Japan\n",
            "Welcome Aup PII you are 16 years old and a national of Japan.\n"
          ],
          "name": "stdout"
        }
      ]
    },
    {
      "cell_type": "markdown",
      "metadata": {
        "id": "ChSVm13dIjbe"
      },
      "source": [
        "i.Create one more program that converts between different units.\n",
        "\n",
        "$$0.0328084ft= cm$$"
      ]
    },
    {
      "cell_type": "code",
      "metadata": {
        "colab": {
          "base_uri": "https://localhost:8080/"
        },
        "id": "GxfPNXFrIjOC",
        "outputId": "38c17d68-c0b5-4f61-8c78-3883250573f6"
      },
      "source": [
        "#Program convert height in centimeter to height in foot\n",
        "height= int(input(\"how tall are you(cm): \"))\n",
        "\n",
        "ft= height* 0.0328084\n",
        "\n",
        "print(f\"You are {ft}ft\")"
      ],
      "execution_count": 1,
      "outputs": [
        {
          "output_type": "stream",
          "text": [
            "how tall are you(cm): 167\n",
            "You are 5.4790028ft\n"
          ],
          "name": "stdout"
        }
      ]
    }
  ]
}