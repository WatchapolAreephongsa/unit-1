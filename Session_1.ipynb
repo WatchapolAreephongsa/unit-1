{
  "nbformat": 4,
  "nbformat_minor": 0,
  "metadata": {
    "colab": {
      "name": " Session#1",
      "provenance": [],
      "authorship_tag": "ABX9TyMugOdve1WNHdY6YcBztkv1",
      "include_colab_link": true
    },
    "kernelspec": {
      "name": "python3",
      "display_name": "Python 3"
    },
    "language_info": {
      "name": "python"
    }
  },
  "cells": [
    {
      "cell_type": "markdown",
      "metadata": {
        "id": "view-in-github",
        "colab_type": "text"
      },
      "source": [
        "<a href=\"https://colab.research.google.com/github/WatchapolAreephongsa/unit-1/blob/main/Session_1.ipynb\" target=\"_parent\"><img src=\"https://colab.research.google.com/assets/colab-badge.svg\" alt=\"Open In Colab\"/></a>"
      ]
    },
    {
      "cell_type": "markdown",
      "metadata": {
        "id": "kh1n_yg_sePS"
      },
      "source": [
        "#Programming exercises"
      ]
    },
    {
      "cell_type": "markdown",
      "metadata": {
        "id": "hy9b8K6xvQ2R"
      },
      "source": [
        "a. write a program that calculates the addition of all integer numbers from 0 to 2021.\n",
        "\n",
        "We will use the arithmethic sequence\n",
        "$$ sum=1/2*n(1+n)"
      ]
    },
    {
      "cell_type": "code",
      "metadata": {
        "id": "fwubM9_JsQvq"
      },
      "source": [
        "start_num = 0\n",
        "end_num = 2021\n",
        "\n",
        "n=end_num -  start_num\n",
        "\n",
        "#calculate the addition\n",
        "result = n*(n+1)/2\n",
        "#show the result\n",
        "print(\"The addition of integers from\",start_num,\"to\",end_num, \"is\",result)"
      ],
      "execution_count": null,
      "outputs": []
    },
    {
      "cell_type": "code",
      "metadata": {
        "id": "0I1Igz6KxlAP"
      },
      "source": [
        "#printing using f-strings\n",
        "print(f\"The addition of integers from {start_num} to {end_num} is {result}\")"
      ],
      "execution_count": null,
      "outputs": []
    },
    {
      "cell_type": "markdown",
      "metadata": {
        "id": "GEqHK3XPyRCN"
      },
      "source": [
        "b. write a program that calculates the value of y when the user enters a integer x"
      ]
    },
    {
      "cell_type": "code",
      "metadata": {
        "id": "QJRlpI65yZQ_"
      },
      "source": [
        "x = int(input(\"enter the value of x here \"))\n",
        "\n",
        "#This program will calculate y=2(x+3)-3 when the user inputs the value of x\n",
        "\n",
        "print(f\"The value of y when x = {x} is\" , 2*(x+3)-3)"
      ],
      "execution_count": null,
      "outputs": []
    },
    {
      "cell_type": "markdown",
      "metadata": {
        "id": "jpXyri0v0YLM"
      },
      "source": [
        "c.Write a program that asks the user for this name and grade and outputs the user's email address at UWC Isak:\n",
        "\n",
        "Ex.\n",
        "name = John doe\n",
        "grade = 10\n",
        "\n",
        "E-mail = 2024.john.doe@uwcisak.jp"
      ]
    },
    {
      "cell_type": "code",
      "metadata": {
        "id": "IKC2Uspn0r4X",
        "colab": {
          "base_uri": "https://localhost:8080/"
        },
        "outputId": "b3e32798-482a-4607-80fa-8ef8bf854a39"
      },
      "source": [
        "first_name =  input(\"Write your first name here(do not capitalize): \")\n",
        "last_name = input(\"Write your last name here(do not capitalize): \")\n",
        "#the program will show the user's UWC ISAK's email when they input their grade, first name and last name\n",
        "grade = int(input(\" Enter your grade: \"))\n",
        "\n",
        "print(f\"your ISAK e-mail is: {grade+2012}.{first_name}.{last_name}@uwcisak.jp\")"
      ],
      "execution_count": null,
      "outputs": [
        {
          "output_type": "stream",
          "text": [
            "Write your first name here(do not capitalize): watchapol\n",
            "Write your last name here(do not capitalize): areephongsa\n",
            " Enter your grade: 11\n",
            "your ISAK e-mail is:2023.watchapol.areephongsa@uwcisak.jp\n"
          ],
          "name": "stdout"
        }
      ]
    },
    {
      "cell_type": "markdown",
      "metadata": {
        "id": "g58CLVM_2xj_"
      },
      "source": [
        "d.Write a program that converts a temperature from Farenheit to Celsius"
      ]
    },
    {
      "cell_type": "code",
      "metadata": {
        "id": "Caqlqraq2zin",
        "colab": {
          "base_uri": "https://localhost:8080/"
        },
        "outputId": "cac6980c-3ba1-49a9-8422-669a0509bd51"
      },
      "source": [
        "Farenheit = int(input(\"Enter temperature in Farenheit here\"))\n",
        "#equation: (°F − 32) × 5/9 = °C\n",
        "Celsius = ( Farenheit -32)*5/9 \n",
        "\n",
        "print(f\"The temperature in Celsius is {Celsius}°C\")"
      ],
      "execution_count": null,
      "outputs": [
        {
          "output_type": "stream",
          "text": [
            "Enter temperature in Farenheit here90\n",
            "The temperature in Celsius is 32.22222222222222°C\n"
          ],
          "name": "stdout"
        }
      ]
    }
  ]
}