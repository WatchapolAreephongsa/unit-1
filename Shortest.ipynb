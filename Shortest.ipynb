{
  "nbformat": 4,
  "nbformat_minor": 0,
  "metadata": {
    "colab": {
      "name": "Shortest.ipynb",
      "provenance": [],
      "authorship_tag": "ABX9TyOwwaBTm5m1BLQdsC9CpKK3",
      "include_colab_link": true
    },
    "kernelspec": {
      "name": "python3",
      "display_name": "Python 3"
    },
    "language_info": {
      "name": "python"
    }
  },
  "cells": [
    {
      "cell_type": "markdown",
      "metadata": {
        "id": "view-in-github",
        "colab_type": "text"
      },
      "source": [
        "<a href=\"https://colab.research.google.com/github/WatchapolAreephongsa/unit-1/blob/main/Shortest.ipynb\" target=\"_parent\"><img src=\"https://colab.research.google.com/assets/colab-badge.svg\" alt=\"Open In Colab\"/></a>"
      ]
    },
    {
      "cell_type": "code",
      "metadata": {
        "colab": {
          "base_uri": "https://localhost:8080/"
        },
        "id": "G9K7dcBRH11I",
        "outputId": "1fd84e9b-8d43-4d7f-8dea-19fb67a24f4a"
      },
      "source": [
        "name = [\"Tokyo\", \"Moscow\", \"Ho Chi Minh\", \"Hong Kong\"]\n",
        "x = [1, 8 ,5 ,7]\n",
        "y = [3,1,3,2]\n",
        "shortest = 10000\n",
        "city = 0\n",
        "\n",
        "for i in range(3):\n",
        "  dis_x = x[0] - x[i+1]\n",
        "  dis_y = y[0] - y[i+1]\n",
        "  dis = (dis_x**2 + dis_y**2)**1/2\n",
        "  if dis<shortest:\n",
        "    short_x = x[i+1]\n",
        "    shortest = dis\n",
        "    city+=1\n",
        "\n",
        "shortest_city = name[city]\n",
        "\n",
        "print(f\"The closest city to Tokyo is {shortest_city} and it's around {shortest} km away from Tokyo \")\n",
        "    \n",
        "\n"
      ],
      "execution_count": 1,
      "outputs": [
        {
          "output_type": "stream",
          "name": "stdout",
          "text": [
            "the closest city to Tokyo is Ho Chi Minh and it's around 8.0 km away from Tokyo \n"
          ]
        }
      ]
    },
    {
      "cell_type": "code",
      "metadata": {
        "colab": {
          "base_uri": "https://localhost:8080/"
        },
        "id": "ZGKqrfbENFTh",
        "outputId": "834cc341-372d-4d6b-ff4b-b053a8b199d8"
      },
      "source": [
        "name = [\"Tokyo\", \"Moscow\", \"Ho Chi Minh\", \"Hong Kong\"]\n",
        "x = [1, 8 ,5 ,7]\n",
        "y = [3,1,3,2]\n",
        "shortest = 10000\n",
        "city = 0\n",
        "\n",
        "for i in range(3):\n",
        "  dis_x = x[0] - x[i+1]\n",
        "  dis_y = y[0] - y[i+1]\n",
        "  dis_sqr = ((dis_x**2) + (dis_y**2)) \n",
        "  dis = dis_sqr **0.5\n",
        "  if dis<shortest:\n",
        "    shortest = dis\n",
        "    city+=1\n",
        "\n",
        "shortest_city = name[city]\n",
        "\n",
        "print(f\"The closest city to Tokyo is {shortest_city} and it's around {shortest} km away from Tokyo \")\n",
        "    \n"
      ],
      "execution_count": 1,
      "outputs": [
        {
          "output_type": "stream",
          "name": "stdout",
          "text": [
            "The closest city to Tokyo is Ho Chi Minh and it's around 4.0 km away from Tokyo \n"
          ]
        }
      ]
    }
  ]
}