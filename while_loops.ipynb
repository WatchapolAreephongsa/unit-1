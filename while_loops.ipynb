{
  "nbformat": 4,
  "nbformat_minor": 0,
  "metadata": {
    "colab": {
      "name": "while_loops.ipynb",
      "provenance": [],
      "authorship_tag": "ABX9TyOzg/+oDptFzDyBF5s/SWsj",
      "include_colab_link": true
    },
    "kernelspec": {
      "name": "python3",
      "display_name": "Python 3"
    },
    "language_info": {
      "name": "python"
    }
  },
  "cells": [
    {
      "cell_type": "markdown",
      "metadata": {
        "id": "view-in-github",
        "colab_type": "text"
      },
      "source": [
        "<a href=\"https://colab.research.google.com/github/WatchapolAreephongsa/unit-1/blob/main/while_loops.ipynb\" target=\"_parent\"><img src=\"https://colab.research.google.com/assets/colab-badge.svg\" alt=\"Open In Colab\"/></a>"
      ]
    },
    {
      "cell_type": "markdown",
      "metadata": {
        "id": "77H0i8wWLjaU"
      },
      "source": [
        "**List of Squares**"
      ]
    },
    {
      "cell_type": "code",
      "metadata": {
        "id": "zOoNsYgHIs-4"
      },
      "source": [
        "n = int(input())\n",
        "i = 1\n",
        "while i**2<=n:\n",
        "    print(i**2)\n",
        "    i+=1"
      ],
      "execution_count": null,
      "outputs": []
    },
    {
      "cell_type": "code",
      "metadata": {
        "colab": {
          "base_uri": "https://localhost:8080/"
        },
        "id": "Dw23VeavLy_s",
        "outputId": "b12126cd-0ae0-4685-eb24-73716cc85f84"
      },
      "source": [
        "n = int(input())\n",
        "for i in range (1,n+1):\n",
        "    if n>i**2:\n",
        "        print(i**2)\n",
        "  "
      ],
      "execution_count": 4,
      "outputs": [
        {
          "output_type": "stream",
          "name": "stdout",
          "text": [
            "50\n",
            "1\n",
            "4\n",
            "9\n",
            "16\n",
            "25\n",
            "36\n",
            "49\n"
          ]
        }
      ]
    },
    {
      "cell_type": "markdown",
      "metadata": {
        "id": "z-816Ya4MMJc"
      },
      "source": [
        "**Least Divisor**"
      ]
    },
    {
      "cell_type": "code",
      "metadata": {
        "id": "2C6KCsk4MRrL"
      },
      "source": [
        "n = int(input())\n",
        "i = 2\n",
        "\n",
        "while n%i !=0:\n",
        "    i+=1\n",
        "else:\n",
        "    print(i)"
      ],
      "execution_count": null,
      "outputs": []
    },
    {
      "cell_type": "code",
      "metadata": {
        "id": "8k8SdLPNMPLD"
      },
      "source": [
        "n = int(input())\n",
        "\n",
        "for i in range(n,1,-1):\n",
        "    if n%i ==0:\n",
        "       k = i\n",
        "print(k)"
      ],
      "execution_count": null,
      "outputs": []
    },
    {
      "cell_type": "markdown",
      "metadata": {
        "id": "IoRzPXsBM5fU"
      },
      "source": [
        "**The Power of Two**"
      ]
    },
    {
      "cell_type": "code",
      "metadata": {
        "id": "N9lbNmL2NB4f"
      },
      "source": [
        "n = int(input())\n",
        "i = 2\n",
        "length=0\n",
        "while i<=n:\n",
        "    i*=2\n",
        "    length+=1\n",
        "print(length , i//2)"
      ],
      "execution_count": null,
      "outputs": []
    },
    {
      "cell_type": "markdown",
      "metadata": {
        "id": "g--4-697RQ1S"
      },
      "source": [
        " **Morning Jog**"
      ]
    },
    {
      "cell_type": "code",
      "metadata": {
        "id": "pXrzWvbSRZuH"
      },
      "source": [
        "x= int(input())\n",
        "y= int(input())\n",
        "day=1\n",
        "while x<y:\n",
        "    x*=1.1\n",
        "    day+=1\n",
        "    \n",
        "print (day)"
      ],
      "execution_count": null,
      "outputs": []
    },
    {
      "cell_type": "markdown",
      "metadata": {
        "id": "pe9dHsQkRbBH"
      },
      "source": [
        "**The Length of the Sequence**"
      ]
    },
    {
      "cell_type": "code",
      "metadata": {
        "id": "vbkSkIGMRmdk"
      },
      "source": [
        "x=1\n",
        "number = 0\n",
        "while  x!=0:\n",
        "    x= int(input())\n",
        "    number+=1\n",
        "print(number-1)"
      ],
      "execution_count": null,
      "outputs": []
    },
    {
      "cell_type": "markdown",
      "metadata": {
        "id": "oLEWNakaRnyt"
      },
      "source": [
        "**The Sum of the Sequence**"
      ]
    },
    {
      "cell_type": "code",
      "metadata": {
        "id": "hdoymo0FRwVx"
      },
      "source": [
        "i = 0\n",
        "x=int(input())\n",
        "while x !=0 :\n",
        "    i += x\n",
        "    x=int(input())\n",
        "print(i)"
      ],
      "execution_count": null,
      "outputs": []
    },
    {
      "cell_type": "markdown",
      "metadata": {
        "id": "nGOWEQbZSBoU"
      },
      "source": [
        "**The Average of the Sequence**"
      ]
    },
    {
      "cell_type": "code",
      "metadata": {
        "id": "Timj5_a-SHCZ"
      },
      "source": [
        "x= int(input())\n",
        "length = 0 \n",
        "i= 0\n",
        "while x!=0:\n",
        "    i+=x\n",
        "    length+=1\n",
        "    x=int(input())\n",
        "print(i/length)"
      ],
      "execution_count": null,
      "outputs": []
    },
    {
      "cell_type": "markdown",
      "metadata": {
        "id": "6D1DUT4_SQmy"
      },
      "source": [
        "**The Maximum of the Sequence**"
      ]
    },
    {
      "cell_type": "code",
      "metadata": {
        "id": "w80__no4Sgbi"
      },
      "source": [
        "a = int(input())\n",
        "b = int(input())\n",
        "\n",
        "while b!=0:\n",
        "    if b>a:\n",
        "        a,b = b,a\n",
        "        b = int(input())\n",
        "    else:\n",
        "        b = int(input())\n",
        "\n",
        "print(a)"
      ],
      "execution_count": null,
      "outputs": []
    },
    {
      "cell_type": "markdown",
      "metadata": {
        "id": "oUUt-bi2Sj5e"
      },
      "source": [
        "**The Index of the Maximum of a Sequence**"
      ]
    },
    {
      "cell_type": "code",
      "metadata": {
        "id": "BEFH10d5TRFX"
      },
      "source": [
        "a = 0\n",
        "index = 0\n",
        "x = 1\n",
        "len = 1\n",
        "while x != 0:\n",
        "    x = int(input())\n",
        "    if x > a:\n",
        "        a = x\n",
        "        index = len\n",
        "    len += 1\n",
        "print(index)"
      ],
      "execution_count": null,
      "outputs": []
    },
    {
      "cell_type": "markdown",
      "metadata": {
        "id": "Hb5hSV_wTq6z"
      },
      "source": [
        "**The Number of Even Elements of the Sequence**"
      ]
    },
    {
      "cell_type": "code",
      "metadata": {
        "id": "H9fcDpSlTxNh"
      },
      "source": [
        "a = int(input())\n",
        "length = 0\n",
        "while a!= 0:\n",
        "    if a%2 ==0:\n",
        "     length+=1\n",
        "    a = int(input())\n",
        "print(length)"
      ],
      "execution_count": null,
      "outputs": []
    },
    {
      "cell_type": "markdown",
      "metadata": {
        "id": "x4v2BcSBT3IK"
      },
      "source": [
        "**The Number of Elements That Are Greater Than the Previous One**"
      ]
    },
    {
      "cell_type": "code",
      "metadata": {
        "id": "3z636PUHUDJY"
      },
      "source": [
        "b = int(input())\n",
        "a = int(input())\n",
        "length = 0\n",
        "while a!=0:\n",
        "    if a>b:\n",
        "        length +=1\n",
        "    a,b = b,a\n",
        "    a = int(input())\n",
        "print(length)"
      ],
      "execution_count": null,
      "outputs": []
    },
    {
      "cell_type": "markdown",
      "metadata": {
        "id": "Oo3Y6IRHUGE9"
      },
      "source": [
        "**The Second Maximum**"
      ]
    },
    {
      "cell_type": "code",
      "metadata": {
        "id": "Ko6sdYs1Ufs5"
      },
      "source": [
        "first = int (input())\n",
        "second = int(input())\n",
        "x = 1\n",
        "while x!= 0:\n",
        "    if second>first:\n",
        "        first, second = second, first\n",
        "    if x > first:\n",
        "        x, first = first, x\n",
        "    if x > second:\n",
        "        x, second = second, x\n",
        "    x = int(input())\n",
        "\n",
        "print(second)"
      ],
      "execution_count": null,
      "outputs": []
    },
    {
      "cell_type": "markdown",
      "metadata": {
        "id": "VE5Hw4NqUgdd"
      },
      "source": [
        "**The Number of Elements Equal to the Maximum**"
      ]
    },
    {
      "cell_type": "code",
      "metadata": {
        "id": "SVwMRBT5Uprm"
      },
      "source": [
        "first = int(input())\n",
        "x = int(input())\n",
        "length=1\n",
        "while x!=0:\n",
        "    if x>first:\n",
        "        x,first = first, x\n",
        "        length = 1\n",
        "    if x == first:\n",
        "        length+=1\n",
        "    x = int(input())\n",
        "print(length)"
      ],
      "execution_count": null,
      "outputs": []
    },
    {
      "cell_type": "markdown",
      "metadata": {
        "id": "YnJMWVcGUu1H"
      },
      "source": [
        "**Fibonacci Numbers**"
      ]
    },
    {
      "cell_type": "code",
      "metadata": {
        "id": "lqe0UBGLUy3Q"
      },
      "source": [
        "n = int(input())\n",
        "f1 = 0\n",
        "f2 = 1\n",
        "for loop in range (n):\n",
        "    f1 = f1 +f2\n",
        "    ftotal = f2+f1\n",
        "    f2 , f1 = f1, f2\n",
        "print(f1)"
      ],
      "execution_count": null,
      "outputs": []
    },
    {
      "cell_type": "markdown",
      "metadata": {
        "id": "jYb6kf8XU1px"
      },
      "source": [
        "**The Index of a Fibonacci Number**"
      ]
    },
    {
      "cell_type": "code",
      "metadata": {
        "id": "fWQKYP3sVE21"
      },
      "source": [
        "f1 = 0\n",
        "f2 = 1\n",
        "ftotal=0\n",
        "length = 2\n",
        "n =int(input())\n",
        "while ftotal != n :\n",
        "    if length == 100:\n",
        "        length = -1\n",
        "        break\n",
        "    else:\n",
        "        f1 = f1 +f2\n",
        "        ftotal = f2+f1\n",
        "        f2 , f1 = f1, f2\n",
        "        length+=1\n",
        "\n",
        "print(length)"
      ],
      "execution_count": null,
      "outputs": []
    },
    {
      "cell_type": "markdown",
      "metadata": {
        "id": "_w9rPTntVMzt"
      },
      "source": [
        "**The Maximum Number of Consecutive Equal Elements**"
      ]
    },
    {
      "cell_type": "code",
      "metadata": {
        "id": "o7vqfQNsVSSe"
      },
      "source": [
        "previous = int(input())\n",
        "x = int(input())\n",
        "length = 1\n",
        "highest = 1\n",
        "most = 1\n",
        "while x != 0:\n",
        "    if previous == x:\n",
        "        length+=1\n",
        "    if most < length:\n",
        "        most = length\n",
        "    elif previous != x:\n",
        "        length = 1\n",
        "    previous , x = x , previous\n",
        "    x = int(input())\n",
        "print(most)"
      ],
      "execution_count": null,
      "outputs": []
    }
  ]
}